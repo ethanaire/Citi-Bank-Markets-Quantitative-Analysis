{
 "cells": [
  {
   "cell_type": "markdown",
   "metadata": {},
   "source": [
    "# Task 2: Pricing Commodities - coffee"
   ]
  },
  {
   "cell_type": "markdown",
   "metadata": {},
   "source": [
    "## Objectives\n",
    "\n",
    "Using the provided market data, apply the cost of carry model, the Black-Scholes model, and Monte Carlo simulations to determine the fair price of a coffee option contract. Analyze how changes in supply, demand, weather, and geopolitical factors might impact your pricing.\n",
    "\n",
    "Given: \n",
    " - Current spot price (_St_): $1.20 per pound\n",
    " - Risk-free rate (_r_): 2% per annum\n",
    " - Storage cost (_d_): 1% per annum\n",
    " - Time to maturity (_T_): 6 months (0.5 years)\n",
    " - Strike price (_X_): $1.25\n",
    " - Volatility (_σ_): 25% "
   ]
  },
  {
   "cell_type": "code",
   "execution_count": 6,
   "metadata": {},
   "outputs": [
    {
     "name": "stdout",
     "output_type": "stream",
     "text": [
      "Requirement already satisfied: pandas in c:\\users\\administrator\\appdata\\local\\programs\\python\\python313\\lib\\site-packages (2.3.2)\n",
      "Requirement already satisfied: numpy>=1.26.0 in c:\\users\\administrator\\appdata\\local\\programs\\python\\python313\\lib\\site-packages (from pandas) (2.3.2)\n",
      "Requirement already satisfied: python-dateutil>=2.8.2 in c:\\users\\administrator\\appdata\\roaming\\python\\python313\\site-packages (from pandas) (2.9.0.post0)\n",
      "Requirement already satisfied: pytz>=2020.1 in c:\\users\\administrator\\appdata\\local\\programs\\python\\python313\\lib\\site-packages (from pandas) (2025.2)\n",
      "Requirement already satisfied: tzdata>=2022.7 in c:\\users\\administrator\\appdata\\local\\programs\\python\\python313\\lib\\site-packages (from pandas) (2025.2)\n",
      "Requirement already satisfied: six>=1.5 in c:\\users\\administrator\\appdata\\roaming\\python\\python313\\site-packages (from python-dateutil>=2.8.2->pandas) (1.17.0)\n",
      "Requirement already satisfied: numpy in c:\\users\\administrator\\appdata\\local\\programs\\python\\python313\\lib\\site-packages (2.3.2)\n",
      "Collecting scipy\n",
      "  Downloading scipy-1.16.1-cp313-cp313-win_amd64.whl.metadata (60 kB)\n",
      "Requirement already satisfied: numpy<2.6,>=1.25.2 in c:\\users\\administrator\\appdata\\local\\programs\\python\\python313\\lib\\site-packages (from scipy) (2.3.2)\n",
      "Downloading scipy-1.16.1-cp313-cp313-win_amd64.whl (38.5 MB)\n",
      "   ---------------------------------------- 0.0/38.5 MB ? eta -:--:--\n",
      "   ---------------------------------------- 0.3/38.5 MB ? eta -:--:--\n",
      "    --------------------------------------- 0.8/38.5 MB 4.2 MB/s eta 0:00:10\n",
      "   - -------------------------------------- 1.3/38.5 MB 2.2 MB/s eta 0:00:17\n",
      "   - -------------------------------------- 1.8/38.5 MB 2.4 MB/s eta 0:00:16\n",
      "   -- ------------------------------------- 2.1/38.5 MB 2.3 MB/s eta 0:00:17\n",
      "   -- ------------------------------------- 2.1/38.5 MB 2.3 MB/s eta 0:00:17\n",
      "   -- ------------------------------------- 2.9/38.5 MB 2.1 MB/s eta 0:00:17\n",
      "   --- ------------------------------------ 3.4/38.5 MB 2.2 MB/s eta 0:00:17\n",
      "   ---- ----------------------------------- 3.9/38.5 MB 2.2 MB/s eta 0:00:16\n",
      "   ---- ----------------------------------- 4.5/38.5 MB 2.3 MB/s eta 0:00:15\n",
      "   ----- ---------------------------------- 5.0/38.5 MB 2.2 MB/s eta 0:00:16\n",
      "   ----- ---------------------------------- 5.2/38.5 MB 2.3 MB/s eta 0:00:15\n",
      "   ----- ---------------------------------- 5.2/38.5 MB 2.3 MB/s eta 0:00:15\n",
      "   ------ --------------------------------- 6.0/38.5 MB 2.1 MB/s eta 0:00:16\n",
      "   ------ --------------------------------- 6.3/38.5 MB 2.2 MB/s eta 0:00:15\n",
      "   ------- -------------------------------- 6.8/38.5 MB 2.1 MB/s eta 0:00:16\n",
      "   ------- -------------------------------- 7.6/38.5 MB 2.2 MB/s eta 0:00:14\n",
      "   -------- ------------------------------- 8.1/38.5 MB 2.2 MB/s eta 0:00:14\n",
      "   -------- ------------------------------- 8.7/38.5 MB 2.2 MB/s eta 0:00:14\n",
      "   --------- ------------------------------ 9.4/38.5 MB 2.3 MB/s eta 0:00:13\n",
      "   ---------- ----------------------------- 10.5/38.5 MB 2.4 MB/s eta 0:00:12\n",
      "   ----------- ---------------------------- 11.3/38.5 MB 2.5 MB/s eta 0:00:11\n",
      "   ----------- ---------------------------- 11.5/38.5 MB 2.5 MB/s eta 0:00:11\n",
      "   ------------ --------------------------- 12.1/38.5 MB 2.5 MB/s eta 0:00:11\n",
      "   ------------- -------------------------- 12.6/38.5 MB 2.5 MB/s eta 0:00:11\n",
      "   ------------- -------------------------- 13.4/38.5 MB 2.5 MB/s eta 0:00:11\n",
      "   -------------- ------------------------- 13.9/38.5 MB 2.5 MB/s eta 0:00:10\n",
      "   --------------- ------------------------ 14.9/38.5 MB 2.6 MB/s eta 0:00:10\n",
      "   ---------------- ----------------------- 15.7/38.5 MB 2.6 MB/s eta 0:00:09\n",
      "   ---------------- ----------------------- 16.0/38.5 MB 2.6 MB/s eta 0:00:09\n",
      "   ----------------- ---------------------- 17.0/38.5 MB 2.7 MB/s eta 0:00:09\n",
      "   ------------------ --------------------- 17.6/38.5 MB 2.7 MB/s eta 0:00:08\n",
      "   ------------------ --------------------- 17.8/38.5 MB 2.6 MB/s eta 0:00:08\n",
      "   ------------------ --------------------- 18.1/38.5 MB 2.6 MB/s eta 0:00:08\n",
      "   ------------------- -------------------- 18.9/38.5 MB 2.6 MB/s eta 0:00:08\n",
      "   -------------------- ------------------- 19.7/38.5 MB 2.7 MB/s eta 0:00:08\n",
      "   --------------------- ------------------ 20.4/38.5 MB 2.7 MB/s eta 0:00:07\n",
      "   ---------------------- ----------------- 21.2/38.5 MB 2.7 MB/s eta 0:00:07\n",
      "   ---------------------- ----------------- 22.0/38.5 MB 2.7 MB/s eta 0:00:07\n",
      "   ----------------------- ---------------- 23.1/38.5 MB 2.8 MB/s eta 0:00:06\n",
      "   ------------------------- -------------- 24.1/38.5 MB 2.8 MB/s eta 0:00:06\n",
      "   ------------------------- -------------- 24.6/38.5 MB 2.8 MB/s eta 0:00:05\n",
      "   -------------------------- ------------- 25.4/38.5 MB 2.9 MB/s eta 0:00:05\n",
      "   --------------------------- ------------ 26.5/38.5 MB 2.9 MB/s eta 0:00:05\n",
      "   ---------------------------- ----------- 27.0/38.5 MB 2.9 MB/s eta 0:00:04\n",
      "   ---------------------------- ----------- 27.8/38.5 MB 2.9 MB/s eta 0:00:04\n",
      "   ----------------------------- ---------- 28.6/38.5 MB 2.9 MB/s eta 0:00:04\n",
      "   ------------------------------ --------- 29.1/38.5 MB 2.9 MB/s eta 0:00:04\n",
      "   ------------------------------- -------- 29.9/38.5 MB 2.9 MB/s eta 0:00:03\n",
      "   ------------------------------- -------- 30.1/38.5 MB 2.9 MB/s eta 0:00:03\n",
      "   ------------------------------- -------- 30.4/38.5 MB 2.9 MB/s eta 0:00:03\n",
      "   ------------------------------- -------- 30.7/38.5 MB 2.9 MB/s eta 0:00:03\n",
      "   -------------------------------- ------- 31.5/38.5 MB 2.9 MB/s eta 0:00:03\n",
      "   --------------------------------- ------ 32.0/38.5 MB 2.9 MB/s eta 0:00:03\n",
      "   ---------------------------------- ----- 32.8/38.5 MB 2.9 MB/s eta 0:00:02\n",
      "   ---------------------------------- ----- 33.6/38.5 MB 2.9 MB/s eta 0:00:02\n",
      "   ----------------------------------- ---- 34.6/38.5 MB 2.9 MB/s eta 0:00:02\n",
      "   ------------------------------------- -- 35.7/38.5 MB 3.0 MB/s eta 0:00:01\n",
      "   ------------------------------------- -- 36.4/38.5 MB 3.0 MB/s eta 0:00:01\n",
      "   ---------------------------------------  37.7/38.5 MB 3.0 MB/s eta 0:00:01\n",
      "   ---------------------------------------  38.3/38.5 MB 3.0 MB/s eta 0:00:01\n",
      "   ---------------------------------------  38.3/38.5 MB 3.0 MB/s eta 0:00:01\n",
      "   ---------------------------------------  38.3/38.5 MB 3.0 MB/s eta 0:00:01\n",
      "   ---------------------------------------  38.3/38.5 MB 3.0 MB/s eta 0:00:01\n",
      "   ---------------------------------------  38.3/38.5 MB 3.0 MB/s eta 0:00:01\n",
      "   ---------------------------------------  38.3/38.5 MB 3.0 MB/s eta 0:00:01\n",
      "   ---------------------------------------  38.3/38.5 MB 3.0 MB/s eta 0:00:01\n",
      "   ---------------------------------------  38.3/38.5 MB 3.0 MB/s eta 0:00:01\n",
      "   ---------------------------------------  38.3/38.5 MB 3.0 MB/s eta 0:00:01\n",
      "   ---------------------------------------  38.3/38.5 MB 3.0 MB/s eta 0:00:01\n",
      "   ---------------------------------------- 38.5/38.5 MB 2.6 MB/s  0:00:14\n",
      "Installing collected packages: scipy\n",
      "Successfully installed scipy-1.16.1\n"
     ]
    }
   ],
   "source": [
    "!python -m pip install pandas\n",
    "!python -m pip install numpy\n",
    "!python -m pip install scipy"
   ]
  },
  {
   "cell_type": "markdown",
   "metadata": {},
   "source": [
    "## Setup\n"
   ]
  },
  {
   "cell_type": "markdown",
   "metadata": {},
   "source": [
    "For this lab, we will be using the following libraries:\n",
    "\n",
    "*   [`pandas`](https://numpy.org/) for managing the data.\n",
    "*   [`numpy`](https://numpy.org/) for mathematical calculations.\n"
   ]
  },
  {
   "cell_type": "markdown",
   "metadata": {},
   "source": [
    "### Importing Required Libraries\n",
    "\n",
    "_We recommend you import all required libraries in one place (here):_\n"
   ]
  },
  {
   "cell_type": "code",
   "execution_count": 7,
   "metadata": {
    "tags": []
   },
   "outputs": [],
   "source": [
    "# You can also use this section to suppress warnings generated by your code:\n",
    "def warn(*args, **kwargs):\n",
    "    pass\n",
    "import warnings\n",
    "warnings.warn = warn\n",
    "warnings.filterwarnings('ignore')\n",
    "\n",
    "import pandas as pd\n",
    "import numpy as np\n",
    "from scipy.stats import norm"
   ]
  },
  {
   "cell_type": "markdown",
   "metadata": {},
   "source": [
    "## Cost of Carry Model"
   ]
  },
  {
   "cell_type": "markdown",
   "metadata": {},
   "source": [
    "**Project**: Calculate the futures price for a coffee contract maturing in six months using the current spot price, the risk-free interest rate, and the estimated storage costs.\n",
    "\n",
    "**Steps**:\n",
    "\n",
    "1. **Gather Data**:\n",
    "    - **Spot Price**: Find the current spot price of coffee. You can obtain this from financial news websites like Bloomberg, Reuters, or commodity-specific sites like the International Coffee Organization (ICO). \n",
    "\n",
    "    - **Risk-Free Rate**: Use the current yield on a six-month US Treasury bill as a proxy for the risk-free rate. This data can be found on financial websites like the US Department of the Treasury or FRED (Federal Reserve Economic Data). \n",
    "\n",
    "    - **Storage Costs**: Estimate storage costs as a percentage of the spot price. This information might be available in commodity market reports or industry publications. \n",
    "\n",
    "2. **Calculate Futures Price**:\n",
    "    - Use cost of carry formula and calculate future prices."
   ]
  },
  {
   "cell_type": "code",
   "execution_count": 3,
   "metadata": {},
   "outputs": [],
   "source": [
    "# Given values\n",
    "S_t = 1.20 # Spot price in dollars\n",
    "r = 0.02 # Risk-free rate (2%)\n",
    "d = 0.01 # Storage cost (1%)\n",
    "T = 0.5 # Time to maturity in years"
   ]
  },
  {
   "cell_type": "code",
   "execution_count": 6,
   "metadata": {},
   "outputs": [
    {
     "name": "stdout",
     "output_type": "stream",
     "text": [
      "The fair price of the coffee futures contract is $1.218 per pound.\n"
     ]
    }
   ],
   "source": [
    "# Calculating futures price\n",
    "F_t = S_t * np.exp((r + d) * T)\n",
    "print(f\"The fair price of the coffee futures contract is ${F_t:.3f} per pound.\")"
   ]
  },
  {
   "cell_type": "markdown",
   "metadata": {},
   "source": [
    "## Black-Scholes Model"
   ]
  },
  {
   "cell_type": "markdown",
   "metadata": {},
   "source": [
    "**Project**: Price a call option on a coffee futures contract using the current spot price, strike price, risk-free rate, time to maturity, and volatility. \n",
    "\n",
    "**Steps**:\n",
    "1. **Gather Data**:\n",
    "\n",
    "    - Spot Price: Use the same spot price data as for the futures contract. \n",
    "\n",
    "    - Strike Price: Choose a strike price based on market conditions and option contracts available on exchanges like the ICE (Intercontinental Exchange). \n",
    "\n",
    "    - Risk-Free Rate: Use the same risk-free rate as for the futures contract. o Time to Maturity: Specify the time to maturity (e.g., six months). o Volatility: Calculate or find the historical volatility of coffee prices. This data can be derived from historical price data available on financial websites or through databases like Yahoo Finance. \n",
    "\n",
    "2. **Calculate Option Price**:\n",
    "    - Use the Black-Scholes formula."
   ]
  },
  {
   "cell_type": "code",
   "execution_count": 8,
   "metadata": {},
   "outputs": [],
   "source": [
    "# Given values\n",
    "S_0 = 1.20 # Spot price in dollars\n",
    "X = 1.25 # Strike price in dollars\n",
    "r = 0.02 # Risk-free rate (2%)\n",
    "T = 0.5 # Time to maturity in years\n",
    "sigma = 0.25 # Volatility (25%)"
   ]
  },
  {
   "cell_type": "code",
   "execution_count": 9,
   "metadata": {},
   "outputs": [],
   "source": [
    "# Calculating d1 and d2\n",
    "d1 = (np.log(S_0 / X) + (r + 0.5 * sigma ** 2) * T) / (sigma *\n",
    "np.sqrt(T))\n",
    "d2 = d1 - sigma * np.sqrt(T)"
   ]
  },
  {
   "cell_type": "code",
   "execution_count": 10,
   "metadata": {},
   "outputs": [
    {
     "name": "stdout",
     "output_type": "stream",
     "text": [
      "The price of the call option is $0.068.\n"
     ]
    }
   ],
   "source": [
    "# Calculating call option price using Black-Scholes formula\n",
    "C = S_0 * norm.cdf(d1) - X * np.exp(-r * T) * norm.cdf(d2)\n",
    "print(f\"The price of the call option is ${C:.3f}.\")"
   ]
  },
  {
   "cell_type": "markdown",
   "metadata": {},
   "source": [
    "## Monte Carlo Simulation"
   ]
  },
  {
   "cell_type": "markdown",
   "metadata": {},
   "source": [
    "**Project**: Run simulatipns to forecast the price of coffee futures under different market conditions. Evaluate the impact of varying supply, demand, and weather scenarios.\n",
    "\n",
    "**Steps**:\n",
    "1. **Gather Data**:\n",
    "\n",
    "    - Initial Price: Use the same spot price data.\n",
    "\n",
    "    - Risk-Free Rate: Use the same risk-free rate.\n",
    "\n",
    "    - V-latility: Use the same v-latility data.\n",
    "\n",
    "    - Simulated Peri-d: Define the time period for the simulation (e.g., six months).\n",
    "\n",
    "2. **Run Simulations**:\n",
    "\n",
    "    - Use Monte Carlo simulations to generate numerous possible future price paths based on the inputs.\n",
    "\n",
    "    - Model the stochastic process of coffee prices using Geometric Brownian Motion (GBM).\n",
    "\n"
   ]
  },
  {
   "cell_type": "code",
   "execution_count": 12,
   "metadata": {},
   "outputs": [],
   "source": [
    "# Simulation parameters\n",
    "S_0 = 1.20 # Spot price in dollars\n",
    "r = 0.02 # Risk-free rate (2%)\n",
    "sigma = 0.25 # Volatility (25%)\n",
    "T = 0.5 # Time to maturity in years\n",
    "num_simulations = 10000 # Number of simulations\n",
    "num_steps = 252 # Number of steps (daily)"
   ]
  },
  {
   "cell_type": "code",
   "execution_count": 13,
   "metadata": {},
   "outputs": [],
   "source": [
    "# Time increment\n",
    "dt = T / num_steps"
   ]
  },
  {
   "cell_type": "code",
   "execution_count": 14,
   "metadata": {},
   "outputs": [],
   "source": [
    "# Simulating price paths\n",
    "np.random.seed(42) # For reproducibility\n",
    "price_paths = np.zeros((num_steps, num_simulations))\n",
    "price_paths[0] = S_0\n",
    "for t in range(1, num_steps):\n",
    "    z = np.random.standard_normal(num_simulations)\n",
    "    price_paths[t] = price_paths[t-1] * np.exp((r - 0.5 * sigma ** 2) * dt + sigma * np.sqrt(dt) * z)"
   ]
  },
  {
   "cell_type": "code",
   "execution_count": 15,
   "metadata": {},
   "outputs": [
    {
     "name": "stdout",
     "output_type": "stream",
     "text": [
      "The average simulated price of the coffee futures contract at maturity is $1.210.\n"
     ]
    }
   ],
   "source": [
    "# Calculating the average simulated price at maturity\n",
    "average_simulated_price = np.mean(price_paths[-1])\n",
    "print(f\"The average simulated price of the coffee futures contract at maturity is ${average_simulated_price:.3f}.\")"
   ]
  },
  {
   "cell_type": "markdown",
   "metadata": {},
   "source": [
    "<!--\n",
    "|Date (YYYY-MM-DD)|Version|Changed By|Change Description|\n",
    "|-|-|-|-|\n",
    "|2023-04-14|0.1|Ramesh Sannareddy|Initial Version Created|\n",
    "|2023-06-20|0.3|Vicky Kuo|Proofreading|\n",
    "-->\n"
   ]
  }
 ],
 "metadata": {
  "kernelspec": {
   "display_name": "Python 3",
   "language": "python",
   "name": "python3"
  },
  "language_info": {
   "codemirror_mode": {
    "name": "ipython",
    "version": 3
   },
   "file_extension": ".py",
   "mimetype": "text/x-python",
   "name": "python",
   "nbconvert_exporter": "python",
   "pygments_lexer": "ipython3",
   "version": "3.13.7"
  },
  "prev_pub_hash": "17370cf7a9992ac7a7afe107050c00c9c209cfec15b97ddc44a854378fcdf5e6"
 },
 "nbformat": 4,
 "nbformat_minor": 4
}
